{
 "cells": [
  {
   "cell_type": "markdown",
   "metadata": {},
   "source": [
    "Strings"
   ]
  },
  {
   "cell_type": "code",
   "execution_count": 22,
   "metadata": {},
   "outputs": [
    {
     "name": "stdout",
     "output_type": "stream",
     "text": [
      "<class 'int'>\n",
      "How are you, Jane\n",
      "Good morning, my name is Jane and I am 26 years old. \n"
     ]
    }
   ],
   "source": [
    "\n",
    "# Concatenation\n",
    "\n",
    "message = \"How are you,\"\n",
    "name = input(\"Enter your name: \")\n",
    "age = int(input(\"Enter your age: \"))\n",
    "print(type(age))\n",
    "# greetings = message + \" \" + name\n",
    "# greetings = message + name\n",
    "greetings = f\"{message} {name}\"\n",
    "\n",
    "# print(greetings)\n",
    "print(f\"{message} {name}\")\n",
    "\n",
    "message2 = f\"Good morning, my name is {name} and I am {age} years old. \"\n",
    "print(message2)"
   ]
  },
  {
   "cell_type": "markdown",
   "metadata": {},
   "source": [
    "Numbers"
   ]
  },
  {
   "cell_type": "code",
   "execution_count": 51,
   "metadata": {},
   "outputs": [
    {
     "name": "stdout",
     "output_type": "stream",
     "text": [
      "<class 'int'>\n",
      "20.0\n",
      "<class 'float'>\n",
      "<class 'float'>\n",
      "12300.0\n",
      "3\n",
      "10\n",
      "3.14\n",
      "3\n",
      "3.14\n",
      "16\n",
      "15.0\n",
      "27.0\n",
      "3.141592653589793\n"
     ]
    }
   ],
   "source": [
    "# Integers\n",
    "import math as Math\n",
    "\n",
    "num1 = 20\n",
    "# a = -20\n",
    "# b = 0\n",
    "# c = 12243564646737373773733636363666626635262622662\n",
    "print(type(num1))\n",
    "num1 = float(num1)\n",
    "print(float(num1))\n",
    "print(type(num1))\n",
    "\n",
    "\n",
    "# Floats\n",
    "num3 = 20.5\n",
    "print(type(num3))\n",
    "a = -0.34\n",
    "b = 1.23e4 \n",
    "c = 1.23 * 10000\n",
    "print(c)\n",
    "\n",
    "# x \n",
    "\n",
    "x = 10\n",
    "y = -3\n",
    "\n",
    "# print(x + y)\n",
    "# print(x - y)\n",
    "# print(x * y)\n",
    "# print(x / y)\n",
    "# print(x % y)\n",
    "\n",
    "print(abs(y))\n",
    "print(abs(x))\n",
    "print(abs(-3.14))\n",
    "\n",
    "\n",
    "print(round(3.14159))\n",
    "print(round(3.14159, 2))\n",
    "print(pow(2, 4))\n",
    "print(Math.sqrt(225))\n",
    "print(Math.pow(3, 3))\n",
    "print(Math.pi)\n"
   ]
  },
  {
   "cell_type": "markdown",
   "metadata": {},
   "source": [
    "Boolean (bool)"
   ]
  },
  {
   "cell_type": "code",
   "execution_count": 79,
   "metadata": {},
   "outputs": [
    {
     "name": "stdout",
     "output_type": "stream",
     "text": [
      "True\n",
      "False\n",
      "True\n",
      "False\n",
      "2\n",
      "4\n"
     ]
    }
   ],
   "source": [
    "\n",
    "\n",
    "is_student = True\n",
    "print(is_student)\n",
    "\n",
    "x = 10\n",
    "y = '10'\n",
    "z = 7\n",
    "\n",
    "print(x==y)\n",
    "print(x > z)\n",
    "print(x < z)\n",
    "\n",
    "\n"
   ]
  },
  {
   "cell_type": "code",
   "execution_count": 81,
   "metadata": {},
   "outputs": [
    {
     "name": "stdout",
     "output_type": "stream",
     "text": [
      "2\n",
      "4\n"
     ]
    }
   ],
   "source": [
    "m = 2\n",
    "print(m)\n",
    "m += 2 # m = m + 2\n",
    "print(m)"
   ]
  },
  {
   "cell_type": "markdown",
   "metadata": {},
   "source": [
    "Loops"
   ]
  },
  {
   "cell_type": "code",
   "execution_count": 78,
   "metadata": {},
   "outputs": [
    {
     "name": "stdout",
     "output_type": "stream",
     "text": [
      "1\n",
      "2\n",
      "3\n",
      "4\n",
      "5\n"
     ]
    }
   ],
   "source": [
    "for i in range(5):\n",
    "    i += 1 # i = i + 1\n",
    "    print(i)\n",
    "    "
   ]
  },
  {
   "cell_type": "code",
   "execution_count": 61,
   "metadata": {},
   "outputs": [
    {
     "name": "stdout",
     "output_type": "stream",
     "text": [
      "Z\n",
      "i\n",
      "n\n",
      "d\n",
      "u\n",
      "a\n"
     ]
    }
   ],
   "source": [
    "   \n",
    "word = \"Zindua\"\n",
    "for letter in word:\n",
    "    print(letter)"
   ]
  },
  {
   "cell_type": "code",
   "execution_count": 64,
   "metadata": {},
   "outputs": [
    {
     "name": "stdout",
     "output_type": "stream",
     "text": [
      "['apples', 'bananas', 'oranges', 'lemons']\n",
      "0 apples\n",
      "1 bananas\n",
      "2 oranges\n",
      "3 lemons\n"
     ]
    }
   ],
   "source": [
    "fruits = ['apples', 'bananas', 'oranges', 'lemons']\n",
    "print(fruits)\n",
    "    \n",
    "for index, fruit in enumerate(fruits):\n",
    "    print(index, fruit)"
   ]
  },
  {
   "cell_type": "code",
   "execution_count": 69,
   "metadata": {},
   "outputs": [
    {
     "name": "stdout",
     "output_type": "stream",
     "text": [
      "0\n",
      "1\n",
      "2\n",
      "3\n",
      "4\n"
     ]
    }
   ],
   "source": [
    "for i in range(10):\n",
    "    if i == 5:\n",
    "        break\n",
    "    print(i)\n"
   ]
  },
  {
   "cell_type": "code",
   "execution_count": 70,
   "metadata": {},
   "outputs": [
    {
     "name": "stdout",
     "output_type": "stream",
     "text": [
      "0\n",
      "1\n",
      "2\n",
      "3\n",
      "4\n",
      "6\n",
      "7\n",
      "8\n",
      "9\n"
     ]
    }
   ],
   "source": [
    "for i in range(10):\n",
    "    if i == 5:\n",
    "        continue\n",
    "    print(i)"
   ]
  },
  {
   "cell_type": "code",
   "execution_count": 77,
   "metadata": {},
   "outputs": [
    {
     "name": "stdout",
     "output_type": "stream",
     "text": [
      "2\n",
      "4\n",
      "6\n",
      "8\n",
      "10\n",
      "12\n",
      "14\n",
      "16\n",
      "18\n",
      "20\n"
     ]
    }
   ],
   "source": [
    "for i in range(20):\n",
    "    i += 2\n",
    "    if i % 2 == 0:\n",
    "        print(i)\n",
    "        "
   ]
  },
  {
   "cell_type": "code",
   "execution_count": 73,
   "metadata": {},
   "outputs": [
    {
     "name": "stdout",
     "output_type": "stream",
     "text": [
      "1\n",
      "3\n",
      "5\n",
      "7\n",
      "9\n",
      "11\n",
      "13\n",
      "15\n",
      "17\n",
      "19\n"
     ]
    }
   ],
   "source": [
    "for i in range(20):\n",
    "    if i % 2 != 0:\n",
    "        print(i)\n"
   ]
  },
  {
   "cell_type": "code",
   "execution_count": 86,
   "metadata": {},
   "outputs": [
    {
     "name": "stdout",
     "output_type": "stream",
     "text": [
      "10\n"
     ]
    }
   ],
   "source": [
    "i = 10\n",
    "while i <= 10:\n",
    "    print(i)\n",
    "    i += 1"
   ]
  },
  {
   "cell_type": "code",
   "execution_count": 88,
   "metadata": {},
   "outputs": [
    {
     "name": "stdout",
     "output_type": "stream",
     "text": [
      "This loop will run forever\n",
      "This loop will run forever\n",
      "This loop will run forever\n",
      "This loop will run forever\n",
      "This loop will run forever\n",
      "This loop will run forever\n",
      "This loop will run forever\n",
      "This loop will run forever\n",
      "This loop will run forever\n",
      "This loop will run forever\n"
     ]
    },
    {
     "ename": "KeyboardInterrupt",
     "evalue": "",
     "output_type": "error",
     "traceback": [
      "\u001b[0;31m---------------------------------------------------------------------------\u001b[0m",
      "\u001b[0;31mKeyboardInterrupt\u001b[0m                         Traceback (most recent call last)",
      "Cell \u001b[0;32mIn[88], line 4\u001b[0m\n\u001b[1;32m      1\u001b[0m \u001b[38;5;28;01mimport\u001b[39;00m \u001b[38;5;21;01mtime\u001b[39;00m\n\u001b[1;32m      3\u001b[0m \u001b[38;5;28;01mwhile\u001b[39;00m \u001b[38;5;28;01mTrue\u001b[39;00m:\n\u001b[0;32m----> 4\u001b[0m     \u001b[43mtime\u001b[49m\u001b[38;5;241;43m.\u001b[39;49m\u001b[43msleep\u001b[49m\u001b[43m(\u001b[49m\u001b[38;5;241;43m3\u001b[39;49m\u001b[43m)\u001b[49m\n\u001b[1;32m      5\u001b[0m     \u001b[38;5;28mprint\u001b[39m(\u001b[38;5;124m'\u001b[39m\u001b[38;5;124mThis loop will run forever\u001b[39m\u001b[38;5;124m'\u001b[39m)\n",
      "\u001b[0;31mKeyboardInterrupt\u001b[0m: "
     ]
    }
   ],
   "source": [
    "import time\n",
    "\n",
    "while True:\n",
    "    time.sleep(3)\n",
    "    print('This loop will run forever')"
   ]
  },
  {
   "cell_type": "code",
   "execution_count": 90,
   "metadata": {},
   "outputs": [
    {
     "name": "stdout",
     "output_type": "stream",
     "text": [
      "Balance: 200\n",
      "Balance: 180\n",
      "Balance: 160\n",
      "Balance: 140\n",
      "Balance: 120\n",
      "Balance: 100\n",
      "Balance: 80\n",
      "Balance: 60\n",
      "Balance: 40\n",
      "Balance: 20\n"
     ]
    }
   ],
   "source": [
    "import time\n",
    "\n",
    "balance = 200\n",
    "while balance > 0:\n",
    "    print(f\"Balance: {balance}\")\n",
    "    time.sleep(2)\n",
    "    balance -= 20"
   ]
  },
  {
   "cell_type": "code",
   "execution_count": 95,
   "metadata": {},
   "outputs": [
    {
     "name": "stdout",
     "output_type": "stream",
     "text": [
      "2\n",
      "4\n",
      "6\n",
      "8\n",
      "10\n"
     ]
    }
   ],
   "source": [
    "numbers = int(input(\"Enter a number: \"))\n",
    "current = 1\n",
    "while current <= numbers:\n",
    "    if current % 2 == 0:\n",
    "        print(current)\n",
    "    current += 1"
   ]
  }
 ],
 "metadata": {
  "kernelspec": {
   "display_name": "Python 3",
   "language": "python",
   "name": "python3"
  },
  "language_info": {
   "codemirror_mode": {
    "name": "ipython",
    "version": 3
   },
   "file_extension": ".py",
   "mimetype": "text/x-python",
   "name": "python",
   "nbconvert_exporter": "python",
   "pygments_lexer": "ipython3",
   "version": "3.12.3"
  }
 },
 "nbformat": 4,
 "nbformat_minor": 2
}
