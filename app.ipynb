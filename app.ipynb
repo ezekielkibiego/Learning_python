{
 "cells": [
  {
   "cell_type": "markdown",
   "metadata": {},
   "source": [
    "### If Statements"
   ]
  },
  {
   "cell_type": "code",
   "execution_count": 16,
   "metadata": {},
   "outputs": [
    {
     "name": "stdout",
     "output_type": "stream",
     "text": [
      "Number is zero\n"
     ]
    }
   ],
   "source": [
    "number = int(input(\"Enter number: \"))\n",
    "if number > 0:\n",
    "    print(\"Number is positive\")\n",
    "elif number < 0:\n",
    "    print(\"Number is negative\")\n",
    "    \n",
    "else:\n",
    "    print(\"Number is zero\")"
   ]
  },
  {
   "cell_type": "code",
   "execution_count": 7,
   "metadata": {},
   "outputs": [],
   "source": [
    "my_list = [1, 2]\n",
    "if not my_list:\n",
    "    print(\"The list is empty\")"
   ]
  },
  {
   "cell_type": "code",
   "execution_count": 18,
   "metadata": {},
   "outputs": [
    {
     "name": "stdout",
     "output_type": "stream",
     "text": [
      "User is logged out\n"
     ]
    }
   ],
   "source": [
    "is_logged_in = False\n",
    "if is_logged_in:\n",
    "    print(\"User is logged in\")\n",
    "else:\n",
    "    print(\"User is logged out\")"
   ]
  },
  {
   "cell_type": "code",
   "execution_count": 29,
   "metadata": {},
   "outputs": [
    {
     "name": "stdout",
     "output_type": "stream",
     "text": [
      "The file app.py exists\n"
     ]
    }
   ],
   "source": [
    "import os\n",
    "file_path = \"app.py\"\n",
    "\n",
    "if os.path.exists(file_path):\n",
    "    print(f\"The file {file_path} exists\")\n",
    "\n",
    "else:\n",
    "    print(f\"The file {file_path} does not exist\")"
   ]
  },
  {
   "cell_type": "code",
   "execution_count": 40,
   "metadata": {},
   "outputs": [
    {
     "name": "stdout",
     "output_type": "stream",
     "text": [
      "D\n"
     ]
    }
   ],
   "source": [
    "score = int(input(\"Enter a score: \"))\n",
    "\n",
    "if score >= 90:\n",
    "    print(\"A\")\n",
    "elif score >= 80:\n",
    "    print(\"B\")\n",
    "elif score >= 70:\n",
    "    print(\"C\")\n",
    "elif score >= 60:\n",
    "    print(\"D\")\n",
    "elif 0 <= score < 60:\n",
    "    print(\"F\")\n",
    "else:\n",
    "    print(\"Invalid grade\")\n",
    "    "
   ]
  },
  {
   "cell_type": "code",
   "execution_count": 42,
   "metadata": {},
   "outputs": [
    {
     "name": "stdout",
     "output_type": "stream",
     "text": [
      "The grade for a score of 79 is: C\n"
     ]
    }
   ],
   "source": [
    "score = int(input(\"Enter a score: \"))\n",
    "\n",
    "match score :\n",
    "    case _ if 90 <= score <= 100:\n",
    "        grade = \"A\"\n",
    "    case _ if 80 <= score < 90:\n",
    "        grade = \"B\"\n",
    "    case _ if 70 <= score < 80:\n",
    "        grade = \"C\"\n",
    "        \n",
    "    case _ if 60 <= score < 70:\n",
    "        grade = \"D\"  \n",
    "        \n",
    "    case _ if 0 <= score < 60:\n",
    "        grade = \"F\"\n",
    "        \n",
    "    case _:\n",
    "        grade = \"Invalid grade\"\n",
    "        \n",
    "print(f\"The grade for a score of {score} is: {grade}\")"
   ]
  }
 ],
 "metadata": {
  "kernelspec": {
   "display_name": "Python 3",
   "language": "python",
   "name": "python3"
  },
  "language_info": {
   "codemirror_mode": {
    "name": "ipython",
    "version": 3
   },
   "file_extension": ".py",
   "mimetype": "text/x-python",
   "name": "python",
   "nbconvert_exporter": "python",
   "pygments_lexer": "ipython3",
   "version": "3.12.3"
  }
 },
 "nbformat": 4,
 "nbformat_minor": 2
}
